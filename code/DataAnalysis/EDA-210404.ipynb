{
 "cells": [
  {
   "cell_type": "markdown",
   "id": "fuzzy-bracket",
   "metadata": {},
   "source": [
    "# 나만의 EDA 만들기"
   ]
  },
  {
   "cell_type": "markdown",
   "id": "engaging-strike",
   "metadata": {},
   "source": [
    "## 라이브러리"
   ]
  },
  {
   "cell_type": "code",
   "execution_count": 1,
   "id": "greek-effectiveness",
   "metadata": {},
   "outputs": [],
   "source": [
    "import os\n",
    "import sys\n",
    "from glob import glob\n",
    "import numpy as np\n",
    "import pandas as pd\n",
    "import cv2\n",
    "from PIL import Image\n",
    "from tqdm.notebook import tqdm\n",
    "from time import time\n",
    "\n",
    "import matplotlib.pyplot as plt\n",
    "import seaborn as sns"
   ]
  },
  {
   "cell_type": "markdown",
   "id": "false-poland",
   "metadata": {},
   "source": [
    "## 경로 설정"
   ]
  },
  {
   "cell_type": "code",
   "execution_count": 2,
   "id": "norwegian-remains",
   "metadata": {},
   "outputs": [],
   "source": [
    "# train dataset\n",
    "train_img_dir = '/opt/ml/input/data/train/images'\n",
    "train_csv_path = '/opt/ml/input/data/train/train.csv'\n",
    "\n",
    "# eval dataset\n",
    "eval_img_dir = '/opt/ml/input/data/eval/images'\n",
    "eval_csv_path = '/opt/ml/input/data/eval/info.csv'"
   ]
  },
  {
   "cell_type": "markdown",
   "id": "complicated-canada",
   "metadata": {},
   "source": [
    "## DataFrame\n",
    "\n",
    "- 데이터프레임 만들기, 확인\n",
    "    - df_train, df_eval"
   ]
  },
  {
   "cell_type": "code",
   "execution_count": 24,
   "id": "asian-mirror",
   "metadata": {},
   "outputs": [
    {
     "name": "stdout",
     "output_type": "stream",
     "text": [
      "<< TrainDataset DataFrame >>\n",
      "   id  person_id  gender  age       mask  label                          path\n",
      "0   1          0  female   45       mask      4        000001_f_45_mask_4.jpg\n",
      "1   2          0  female   45     normal     16     000002_f_45_normal_16.jpg\n",
      "2   3          0  female   45       mask      4        000003_f_45_mask_4.jpg\n",
      "3   4          0  female   45       mask      4        000004_f_45_mask_4.jpg\n",
      "4   5          0  female   45  incorrect     10  000005_f_45_incorrect_10.jpg\n",
      "\n",
      " ================================================================== \n",
      "\n",
      "<< EvaluationDataset DataFrame >>\n",
      "                                        ImageID  ans\n",
      "0  cbc5c6e168e63498590db46022617123f1fe1268.jpg    0\n",
      "1  0e72482bf56b3581c081f7da2a6180b8792c7089.jpg    0\n",
      "2  b549040c49190cedc41327748aeb197c1670f14d.jpg    0\n",
      "3  4f9cb2a045c6d5b9e50ad3459ea7b791eb6e18bc.jpg    0\n",
      "4  248428d9a4a5b6229a7081c32851b90cb8d38d0c.jpg    0\n"
     ]
    }
   ],
   "source": [
    "# check train dataset info\n",
    "df_train = pd.read_csv(train_csv_path)\n",
    "print(\"<< TrainDataset DataFrame >>\")\n",
    "print(df_train.head())\n",
    "\n",
    "print('\\n ================================================================== \\n')\n",
    "\n",
    "# check eval dataset info\n",
    "print(\"<< EvaluationDataset DataFrame >>\")\n",
    "df_test = pd.read_csv(eval_csv_path)\n",
    "print(df_test.head())"
   ]
  },
  {
   "cell_type": "markdown",
   "id": "becoming-trademark",
   "metadata": {},
   "source": [
    "## Image 수"
   ]
  },
  {
   "cell_type": "code",
   "execution_count": 25,
   "id": "synthetic-supervision",
   "metadata": {},
   "outputs": [
    {
     "name": "stdout",
     "output_type": "stream",
     "text": [
      "The number of train image: 18900\n",
      "The number of eval image: 12600\n",
      "percentage of train/eval imgs: [60.0, 40.0]\n"
     ]
    }
   ],
   "source": [
    "def get_img_len(path):\n",
    "    img_list = []\n",
    "    for f in glob(path + '/*'):\n",
    "        img_list.extend(glob(f))\n",
    "    return len(img_list)\n",
    "\n",
    "def get_percentage(num_item_list):\n",
    "    total_ = 0\n",
    "    for i in num_item_list:\n",
    "        total_ += i\n",
    "    ret_list = []\n",
    "    for i in num_item_list:\n",
    "        ret_list.append(i / total_ * 100)\n",
    "    return ret_list\n",
    "\n",
    "num_train_imgs = get_img_len(train_img_dir)\n",
    "num_eval_imgs = get_img_len(eval_img_dir)\n",
    "\n",
    "print('The number of train image: ' + f'{num_train_imgs}')\n",
    "print('The number of eval image: ' + f'{num_eval_imgs}')\n",
    "print('percentage of train/eval imgs: ' + f'{get_percentage([num_train_imgs, num_eval_imgs])}')"
   ]
  },
  {
   "cell_type": "markdown",
   "id": "gorgeous-airport",
   "metadata": {},
   "source": [
    "## 요소 중심 분석 - 나이"
   ]
  },
  {
   "cell_type": "code",
   "execution_count": 26,
   "id": "excellent-valve",
   "metadata": {},
   "outputs": [
    {
     "name": "stdout",
     "output_type": "stream",
     "text": [
      "                 id     person_id           age         label\n",
      "count  18803.000000  18803.000000  18803.000000  18803.000000\n",
      "mean    9402.000000   1342.571451     37.802478      5.022762\n",
      "std     5428.102891    775.443257     16.975909      4.658673\n",
      "min        1.000000      0.000000     18.000000      0.000000\n",
      "25%     4701.500000    671.000000     20.000000      1.000000\n",
      "50%     9402.000000   1343.000000     38.000000      4.000000\n",
      "75%    14102.500000   2014.000000     55.000000      7.000000\n",
      "max    18803.000000   2686.000000     60.000000     17.000000\n"
     ]
    }
   ],
   "source": [
    "print(df_train.describe())\n",
    "# df_train.corr()\n",
    "# df_train.corr(method='pearson')"
   ]
  },
  {
   "cell_type": "code",
   "execution_count": 23,
   "id": "postal-salad",
   "metadata": {},
   "outputs": [
    {
     "name": "stdout",
     "output_type": "stream",
     "text": [
      "18    1344\n",
      "19    2786\n",
      "20    1842\n",
      "21     280\n",
      "22     406\n",
      "23     504\n",
      "24     434\n",
      "25     574\n",
      "26     308\n",
      "27     105\n",
      "28     175\n",
      "29     112\n",
      "30     119\n",
      "31      21\n",
      "32      49\n",
      "33      35\n",
      "34      91\n",
      "35     133\n",
      "36      56\n",
      "37      21\n",
      "38      98\n",
      "39      42\n",
      "40     140\n",
      "41      49\n",
      "42      91\n",
      "43     126\n",
      "44      91\n",
      "45     189\n",
      "46      98\n",
      "47      70\n",
      "48     273\n",
      "49     217\n",
      "50     560\n",
      "51     441\n",
      "52     546\n",
      "53     448\n",
      "54     574\n",
      "55     700\n",
      "56     861\n",
      "57     742\n",
      "58    1113\n",
      "59     595\n",
      "60    1344\n",
      "Name: age, dtype: int64\n"
     ]
    }
   ],
   "source": [
    "# tabluar dataset(나이) 출력\n",
    "print(df_train['age'].value_counts().sort_index()) # int로 출력\n",
    "# print(df_train['age'].value_counts(bins=age_list, sort=True)) # 범위로 출력"
   ]
  },
  {
   "cell_type": "code",
   "execution_count": 65,
   "id": "civilian-chamber",
   "metadata": {},
   "outputs": [
    {
     "data": {
      "image/png": "[encoded data removed]",
      "text/plain": [
       "<Figure size 1440x360 with 1 Axes>"
      ]
     },
     "metadata": {
      "needs_background": "light"
     },
     "output_type": "display_data"
    }
   ],
   "source": [
    "age_list = df_train['age'].unique()\n",
    "age_list = sorted(age_list)\n",
    "\n",
    "colors = []\n",
    "for i in range(18, 61):\n",
    "    if i < 30:\n",
    "        colors.append('r')\n",
    "    elif 30 <= i and i < 60:\n",
    "        colors.append('b')\n",
    "    elif 60 <= i:\n",
    "        colors.append('y')\n",
    "\n",
    "df = df_train['age'].value_counts().sort_index()\n",
    "df.plot(kind='bar', rot=0, color=colors)\n",
    "df = df_train['age'].value_counts().sort_index()\n",
    "df.plot(kind='bar', rot=0, color=colors)\n",
    "\n",
    "plt.title(\"< Age Plot >\")\n",
    "plt.xlabel(\"Age\")\n",
    "plt.ylabel(\"Count\")\n",
    "plt.ylim(0, 500)\n",
    "plt.rcParams['figure.figsize'] = [20, 5]\n",
    "plt.show()"
   ]
  },
  {
   "cell_type": "code",
   "execution_count": null,
   "id": "stupid-deputy",
   "metadata": {},
   "outputs": [],
   "source": []
  },
  {
   "cell_type": "code",
   "execution_count": null,
   "id": "improved-palestine",
   "metadata": {},
   "outputs": [],
   "source": []
  },
  {
   "cell_type": "code",
   "execution_count": null,
   "id": "chief-facing",
   "metadata": {},
   "outputs": [],
   "source": []
  },
  {
   "cell_type": "code",
   "execution_count": null,
   "id": "assigned-campaign",
   "metadata": {},
   "outputs": [],
   "source": []
  }
 ],
 "metadata": {
  "kernelspec": {
   "display_name": "Python 3",
   "language": "python",
   "name": "python3"
  },
  "language_info": {
   "codemirror_mode": {
    "name": "ipython",
    "version": 3
   },
   "file_extension": ".py",
   "mimetype": "text/x-python",
   "name": "python",
   "nbconvert_exporter": "python",
   "pygments_lexer": "ipython3",
   "version": "3.7.7"
  }
 },
 "nbformat": 4,
 "nbformat_minor": 5
}
