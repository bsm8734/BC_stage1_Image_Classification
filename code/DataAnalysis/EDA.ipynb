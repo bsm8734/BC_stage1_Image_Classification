{
 "cells": [
  {
   "cell_type": "markdown",
   "id": "wicked-equipment",
   "metadata": {},
   "source": [
    "# 라이브러리"
   ]
  },
  {
   "cell_type": "code",
   "execution_count": 106,
   "id": "interstate-pioneer",
   "metadata": {},
   "outputs": [],
   "source": [
    "import os\n",
    "import sys\n",
    "from glob import glob\n",
    "import numpy as np\n",
    "import pandas as pd\n",
    "import cv2\n",
    "from PIL import Image\n",
    "from tqdm.notebook import tqdm\n",
    "from time import time\n",
    "\n",
    "import matplotlib.pyplot as plt\n",
    "import seaborn as sns"
   ]
  },
  {
   "cell_type": "markdown",
   "id": "subtle-compromise",
   "metadata": {},
   "source": [
    "## 경로 설정"
   ]
  },
  {
   "cell_type": "code",
   "execution_count": 107,
   "id": "premium-desperate",
   "metadata": {},
   "outputs": [],
   "source": [
    "# train dataset\n",
    "train_img_dir = '/opt/ml/input/data/train/images'\n",
    "train_csv_path = '/opt/ml/input/data/train/train.csv'\n",
    "\n",
    "# eval dataset\n",
    "eval_img_dir = '/opt/ml/input/data/eval/images'\n",
    "eval_csv_path = '/opt/ml/input/data/eval/info.csv'"
   ]
  },
  {
   "cell_type": "markdown",
   "id": "compact-river",
   "metadata": {},
   "source": [
    "## DataFrame\n",
    "\n",
    "- 데이터프레임 만들기\n",
    "    - df_train, df_eval"
   ]
  },
  {
   "cell_type": "code",
   "execution_count": 108,
   "id": "limiting-soccer",
   "metadata": {},
   "outputs": [
    {
     "name": "stdout",
     "output_type": "stream",
     "text": [
      "<< TrainDataset DataFrame >>\n",
      "   id  person_id gender  age       mask  label                            path\n",
      "0   1          0      f   45       mask      4        000001_0_f_45_mask_4.jpg\n",
      "1   2          0      f   45     normal     16     000002_0_f_45_normal_16.jpg\n",
      "2   3          0      f   45       mask      4        000003_0_f_45_mask_4.jpg\n",
      "3   4          0      f   45       mask      4        000004_0_f_45_mask_4.jpg\n",
      "4   5          0      f   45  incorrect     10  000005_0_f_45_incorrect_10.jpg\n",
      "\n",
      " ======================================================= \n",
      "\n",
      "<< EvaluationDataset DataFrame >>\n",
      "                                        ImageID  ans\n",
      "0  cbc5c6e168e63498590db46022617123f1fe1268.jpg    0\n",
      "1  0e72482bf56b3581c081f7da2a6180b8792c7089.jpg    0\n",
      "2  b549040c49190cedc41327748aeb197c1670f14d.jpg    0\n",
      "3  4f9cb2a045c6d5b9e50ad3459ea7b791eb6e18bc.jpg    0\n",
      "4  248428d9a4a5b6229a7081c32851b90cb8d38d0c.jpg    0\n"
     ]
    }
   ],
   "source": [
    "# check train dataset info\n",
    "df_train = pd.read_csv(train_csv_path)\n",
    "print(\"<< TrainDataset DataFrame >>\")\n",
    "print(df_train.head())\n",
    "\n",
    "print('\\n ======================================================= \\n')\n",
    "\n",
    "# check eval dataset info\n",
    "print(\"<< EvaluationDataset DataFrame >>\")\n",
    "df_test = pd.read_csv(eval_csv_path)\n",
    "print(df_test.head())"
   ]
  },
  {
   "cell_type": "markdown",
   "id": "hollywood-banana",
   "metadata": {},
   "source": [
    "## Image 수"
   ]
  },
  {
   "cell_type": "code",
   "execution_count": 109,
   "id": "subtle-lease",
   "metadata": {},
   "outputs": [
    {
     "name": "stdout",
     "output_type": "stream",
     "text": [
      "The number of train image: 18900\n",
      "The number of eval image: 12600\n",
      "percentage of train/eval imgs: [60.0, 40.0]\n"
     ]
    }
   ],
   "source": [
    "def get_img_len(path):\n",
    "    img_list = []\n",
    "    for dir in glob(path + '/*'):\n",
    "        img_list.extend(glob(dir+'/*'))\n",
    "    if len(img_list) == 0: # for exception of eval dataseㅋt\n",
    "        for dir in glob(path + '/*'):\n",
    "            img_list.extend(glob(dir))\n",
    "    return len(img_list)\n",
    "\n",
    "def get_percentage(num_item_list):\n",
    "    total_ = 0\n",
    "    for i in num_item_list:\n",
    "        total_ += i\n",
    "    ret_list = []\n",
    "    for i in num_item_list:\n",
    "        ret_list.append(i / total_ * 100)\n",
    "    return ret_list\n",
    "\n",
    "num_train_imgs = get_img_len(train_img_dir)\n",
    "num_eval_imgs = get_img_len(eval_img_dir)\n",
    "\n",
    "print('The number of train image: ' + f'{num_train_imgs}')\n",
    "print('The number of eval image: ' + f'{num_eval_imgs}')\n",
    "print('percentage of train/eval imgs: ' + f'{get_percentage([num_train_imgs, num_eval_imgs])}')"
   ]
  },
  {
   "cell_type": "markdown",
   "id": "facial-yorkshire",
   "metadata": {},
   "source": [
    "## 요소 중심 분석 - 나이"
   ]
  },
  {
   "cell_type": "code",
   "execution_count": 110,
   "id": "processed-quantity",
   "metadata": {},
   "outputs": [
    {
     "name": "stdout",
     "output_type": "stream",
     "text": [
      "                id    person_id           age         label\n",
      "count  18900.00000  18900.00000  18900.000000  18900.000000\n",
      "mean    9450.50000   1349.50000     37.708148      5.010317\n",
      "std     5456.10438    779.44343     16.983208      4.660533\n",
      "min        1.00000      0.00000     18.000000      0.000000\n",
      "25%     4725.75000    674.75000     20.000000      1.000000\n",
      "50%     9450.50000   1349.50000     36.000000      4.000000\n",
      "75%    14175.25000   2024.25000     55.000000      7.000000\n",
      "max    18900.00000   2699.00000     60.000000     17.000000\n"
     ]
    }
   ],
   "source": [
    "print(df_train.describe())\n",
    "# df_train.corr()\n",
    "# df_train.corr(method='pearson')"
   ]
  },
  {
   "cell_type": "code",
   "execution_count": 111,
   "id": "protective-durham",
   "metadata": {},
   "outputs": [
    {
     "name": "stdout",
     "output_type": "stream",
     "text": [
      "<class 'pandas.core.series.Series'>\n",
      "       18    19    20   21   22   23   24   25   26   27   28   29   30  31  \\\n",
      "age  1344  2849  1869  287  406  504  434  574  308  105  175  112  119  21   \n",
      "\n",
      "     32  33  34   35  36  37  38  39   40  41  42   43  44   45  46  47   48  \\\n",
      "age  49  35  91  133  56  21  98  42  140  49  91  126  91  189  98  70  273   \n",
      "\n",
      "      49   50   51   52   53   54   55   56   57    58   59    60  \n",
      "age  217  560  441  546  448  574  700  861  742  1113  595  1344  \n"
     ]
    }
   ],
   "source": [
    "# tabluar dataset(나이) 출력\n",
    "print(type(tmp))\n",
    "# print(df_train['age'].value_counts().sort_index()) # int로 출력\n",
    "# print(df_train['age'].value_counts(bins=age_list, sort=True)) # 범위로 출력\n",
    "\n",
    "pd.set_option('display.max_row', 500)\n",
    "pd.set_option('display.max_columns', 100)\n",
    "print(pd.DataFrame(df_train['age'].value_counts().sort_index()).transpose())"
   ]
  },
  {
   "cell_type": "code",
   "execution_count": 112,
   "id": "electrical-dodge",
   "metadata": {},
   "outputs": [
    {
     "data": {
      "image/png": "[encoded data removed]",
      "text/plain": [
       "<Figure size 1440x360 with 1 Axes>"
      ]
     },
     "metadata": {
      "needs_background": "light"
     },
     "output_type": "display_data"
    }
   ],
   "source": [
    "age_list = df_train['age'].unique()\n",
    "age_list = sorted(age_list)\n",
    "\n",
    "colors = []\n",
    "for i in range(18, 61):\n",
    "    if i < 30:\n",
    "        colors.append('r')\n",
    "    elif 30 <= i and i < 60:\n",
    "        colors.append('b')\n",
    "    elif 60 <= i:\n",
    "        colors.append('y')\n",
    "\n",
    "df = df_train['age'].value_counts().sort_index()\n",
    "df.plot(kind='bar', rot=0, color=colors)\n",
    "\n",
    "plt.title(\"< Age Plot >\")\n",
    "plt.xlabel(\"Age\")\n",
    "plt.ylabel(\"Count\")\n",
    "\n",
    "plt.rcParams['figure.figsize'] = [20, 5]\n",
    "plt.show()"
   ]
  },
  {
   "cell_type": "code",
   "execution_count": 123,
   "id": "proved-cause",
   "metadata": {},
   "outputs": [
    {
     "name": "stdout",
     "output_type": "stream",
     "text": [
      "['18<=x<20', '20<=x<30', '30<=x<40', '40<=x<50', '50<=x<55', '55<=x<60', '60<=x<61']\n",
      "[4193, 4774, 665, 1344, 2569, 4011, 1344]\n"
     ]
    },
    {
     "data": {
      "image/png": "[encoded data removed]",
      "text/plain": [
       "<Figure size 1440x360 with 1 Axes>"
      ]
     },
     "metadata": {
      "needs_background": "light"
     },
     "output_type": "display_data"
    }
   ],
   "source": [
    "from pandas import Series, DataFrame\n",
    "\n",
    "# print(age_list)\n",
    "target = df_train['age'].value_counts().sort_index()\n",
    "# print(target)\n",
    "\n",
    "# extra info\n",
    "plot_labels = []\n",
    "\n",
    "# to plot\n",
    "to_plot = []\n",
    "age_arrange = [20, 30, 40, 50, 55, 60, 61]\n",
    "bef_ = 18\n",
    "ind_ = 0\n",
    "for i in age_arrange:\n",
    "    tmp_sum = 0\n",
    "    plot_labels.append(str(bef_) + '<=x<' + str(i))\n",
    "    for k in range(bef_, i):\n",
    "        tmp_sum += target[k]\n",
    "    to_plot.append(tmp_sum)\n",
    "    bef_ = i\n",
    "    ind_ += 1\n",
    "\n",
    "print(plot_labels)\n",
    "print(to_plot)\n",
    "    \n",
    "df = DataFrame(to_plot)\n",
    "df.plot(kind='bar', rot=0)\n",
    "\n",
    "plt.title(\"< Age Summary Plot >\")\n",
    "plt.xlabel(\"Ages\")\n",
    "plt.ylabel(\"Count\")\n",
    "\n",
    "plt.show()\n",
    "    \n",
    "    "
   ]
  },
  {
   "cell_type": "markdown",
   "id": "occupied-label",
   "metadata": {},
   "source": [
    "# 레이블 별 분포"
   ]
  },
  {
   "cell_type": "code",
   "execution_count": 114,
   "id": "permanent-council",
   "metadata": {},
   "outputs": [
    {
     "data": {
      "image/png": "[encoded data removed]",
      "text/plain": [
       "<Figure size 1008x720 with 1 Axes>"
      ]
     },
     "metadata": {
      "needs_background": "light"
     },
     "output_type": "display_data"
    }
   ],
   "source": [
    "# label_list = df_train['label'].unique()\n",
    "# label_list = sorted(label_list)\n",
    "\n",
    "# print(df_train['label'].value_counts().sort_index()) # int로 출력\n",
    "\n",
    "plt.figure(figsize=(14, 10)) \n",
    "ax = sns.countplot(x = 'label', data = df_train)\n",
    "\n",
    "# df = df_train['label'].value_counts().sort_index()\n",
    "# df.plot(kind='bar', rot=0, color=colors)\n",
    "\n",
    "plt.title(\"< Label Plot >\")\n",
    "plt.xlabel(\"Label\")\n",
    "plt.ylabel(\"Count\")\n",
    "\n",
    "for i, v in enumerate(df_train['label'].value_counts().sort_index()):\n",
    "    ax.text(i, 0, v, horizontalalignment = 'center', size = 14, color = 'black', fontweight = 'bold')\n",
    "\n",
    "# plt.rcParams['figure.figsize'] = [20, 5]\n",
    "plt.show()"
   ]
  },
  {
   "cell_type": "markdown",
   "id": "verified-hawaii",
   "metadata": {},
   "source": [
    "# 성별 별 분포"
   ]
  },
  {
   "cell_type": "code",
   "execution_count": 115,
   "id": "cubic-place",
   "metadata": {},
   "outputs": [
    {
     "data": {
      "image/png": "[encoded data removed]",
      "text/plain": [
       "<Figure size 360x324 with 1 Axes>"
      ]
     },
     "metadata": {
      "needs_background": "light"
     },
     "output_type": "display_data"
    }
   ],
   "source": [
    "plt.figure(figsize=(5, 4.5)) \n",
    "ax = sns.countplot(x = 'gender', data = df_train)\n",
    "\n",
    "plt.xticks( np.arange(2), ['female', 'male'] )\n",
    "plt.title('gender',fontsize= 14)\n",
    "plt.xlabel('')\n",
    "plt.ylabel('Number of images')\n",
    "\n",
    "for i, v in enumerate(df_train['gender'].value_counts().sort_index()):\n",
    "    ax.text(i, 0, v, horizontalalignment = 'center', size = 14, color = 'w', fontweight = 'bold')\n",
    "    \n",
    "plt.show()"
   ]
  },
  {
   "cell_type": "code",
   "execution_count": 116,
   "id": "reflected-cherry",
   "metadata": {},
   "outputs": [
    {
     "data": {
      "image/png": "[encoded data removed]",
      "text/plain": [
       "<Figure size 1296x720 with 1 Axes>"
      ]
     },
     "metadata": {
      "needs_background": "light"
     },
     "output_type": "display_data"
    }
   ],
   "source": [
    "# label_list = df_train['label'].unique()\n",
    "# label_list = sorted(label_list)\n",
    "\n",
    "# print(df_train['label'].value_counts().sort_index()) # int로 출력\n",
    "\n",
    "colors = ['b','b','b','r','r','r','b','b','b','r','r','r','b','b','b','r','r','r']\n",
    "\n",
    "plt.figure(figsize=(18, 10)) \n",
    "ax = sns.countplot(x = 'label', data = df_train, palette=colors)\n",
    "\n",
    "# df = df_train['label'].value_counts().sort_index()\n",
    "# df.plot(kind='bar', rot=0, color=colors)\n",
    "\n",
    "plt.title(\"< Label Plot >\")\n",
    "plt.xlabel(\"Label\")\n",
    "plt.ylabel(\"Count\")\n",
    "\n",
    "for i, v in enumerate(df_train['label'].value_counts().sort_index()):\n",
    "    ax.text(i, 0, v, horizontalalignment = 'center', size = 14, color = 'w')\n",
    "\n",
    "# plt.rcParams['figure.figsize'] = [20, 5]\n",
    "plt.show()"
   ]
  },
  {
   "cell_type": "code",
   "execution_count": null,
   "id": "determined-float",
   "metadata": {},
   "outputs": [],
   "source": []
  },
  {
   "cell_type": "code",
   "execution_count": null,
   "id": "working-hopkins",
   "metadata": {},
   "outputs": [],
   "source": []
  },
  {
   "cell_type": "code",
   "execution_count": null,
   "id": "sufficient-mouth",
   "metadata": {},
   "outputs": [],
   "source": []
  },
  {
   "cell_type": "code",
   "execution_count": null,
   "id": "italic-peninsula",
   "metadata": {},
   "outputs": [],
   "source": []
  },
  {
   "cell_type": "code",
   "execution_count": null,
   "id": "confirmed-cloud",
   "metadata": {},
   "outputs": [],
   "source": []
  },
  {
   "cell_type": "code",
   "execution_count": null,
   "id": "respected-stress",
   "metadata": {},
   "outputs": [],
   "source": []
  },
  {
   "cell_type": "code",
   "execution_count": null,
   "id": "smooth-burden",
   "metadata": {},
   "outputs": [],
   "source": []
  }
 ],
 "metadata": {
  "kernelspec": {
   "display_name": "Python 3",
   "language": "python",
   "name": "python3"
  },
  "language_info": {
   "codemirror_mode": {
    "name": "ipython",
    "version": 3
   },
   "file_extension": ".py",
   "mimetype": "text/x-python",
   "name": "python",
   "nbconvert_exporter": "python",
   "pygments_lexer": "ipython3",
   "version": "3.7.7"
  }
 },
 "nbformat": 4,
 "nbformat_minor": 5
}
