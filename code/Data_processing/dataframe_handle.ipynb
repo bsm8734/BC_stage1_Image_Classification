{
 "cells": [
  {
   "cell_type": "code",
   "execution_count": null,
   "id": "convertible-round",
   "metadata": {},
   "outputs": [],
   "source": [
    "import os\n",
    "\n",
    "data_dir ='/opt/ml/input/data/train/images'\n",
    "profiles = os.listdir(data_dir)\n",
    "profiles = [profile for profile in profiles if not profile.startswith(\".\")]\n",
    "for i in sorted(profiles):\n",
    "    print(i)"
   ]
  },
  {
   "cell_type": "code",
   "execution_count": 11,
   "id": "appropriate-payment",
   "metadata": {},
   "outputs": [
    {
     "name": "stderr",
     "output_type": "stream",
     "text": [
      "/opt/conda/lib/python3.7/site-packages/pandas/core/indexing.py:1763: SettingWithCopyWarning: \n",
      "A value is trying to be set on a copy of a slice from a DataFrame.\n",
      "Try using .loc[row_indexer,col_indexer] = value instead\n",
      "\n",
      "See the caveats in the documentation: https://pandas.pydata.org/pandas-docs/stable/user_guide/indexing.html#returning-a-view-versus-a-copy\n",
      "  isetter(loc, value)\n"
     ]
    },
    {
     "name": "stdout",
     "output_type": "stream",
     "text": [
      "                     filepath  groups\n",
      "0      000523_female_Asian_51       2\n",
      "1      000523_female_Asian_51       2\n",
      "2      000523_female_Asian_51       2\n",
      "3      000523_female_Asian_51       2\n",
      "4      000523_female_Asian_51       2\n",
      "...                       ...     ...\n",
      "18895    006362_male_Asian_18       2\n",
      "18896    006362_male_Asian_18       2\n",
      "18897    006362_male_Asian_18       2\n",
      "18898    006362_male_Asian_18       2\n",
      "18899    006362_male_Asian_18       2\n",
      "\n",
      "[18900 rows x 2 columns]\n"
     ]
    }
   ],
   "source": [
    "import csv\n",
    "import pandas as pd\n",
    "import os\n",
    "\n",
    "csv_path = '/opt/ml/input/data/train/train.csv'\n",
    "\n",
    "# pd.set_option('display.max_row', 500)\n",
    "# pd.set_option('display.max_columns', 100)\n",
    "\n",
    "src_pd =  pd.read_csv(csv_path)\n",
    "npd = src_pd[['filepath', 'groups']]\n",
    "\n",
    "list_filepath = npd['filepath'].tolist()\n",
    "for i in list_filepath:\n",
    "    npd.loc[(npd.filepath == i), 'filepath'] = i.split('/')[7]\n",
    "# for i in npd['filepath']:\n",
    "    \n",
    "\n",
    "print(npd)"
   ]
  },
  {
   "cell_type": "code",
   "execution_count": 12,
   "id": "protected-hawaiian",
   "metadata": {},
   "outputs": [
    {
     "name": "stdout",
     "output_type": "stream",
     "text": [
      "                     filepath  groups\n",
      "0      000523_female_Asian_51       2\n",
      "7        003860_male_Asian_54       4\n",
      "14     001502_female_Asian_18       0\n",
      "21     001514_female_Asian_22       1\n",
      "28       004079_male_Asian_53       4\n",
      "...                       ...     ...\n",
      "18865    006364_male_Asian_18       2\n",
      "18872    006361_male_Asian_18       1\n",
      "18879  004432_female_Asian_43       3\n",
      "18886    006360_male_Asian_18       1\n",
      "18893    006362_male_Asian_18       2\n",
      "\n",
      "[2700 rows x 2 columns]\n"
     ]
    }
   ],
   "source": [
    "nnpd = npd.drop_duplicates(subset=None, keep='first', inplace=False, ignore_index=False)\n",
    "print(nnpd)"
   ]
  },
  {
   "cell_type": "code",
   "execution_count": 13,
   "id": "threatened-volume",
   "metadata": {},
   "outputs": [
    {
     "name": "stderr",
     "output_type": "stream",
     "text": [
      "/opt/conda/lib/python3.7/site-packages/ipykernel_launcher.py:1: SettingWithCopyWarning: \n",
      "A value is trying to be set on a copy of a slice from a DataFrame\n",
      "\n",
      "See the caveats in the documentation: https://pandas.pydata.org/pandas-docs/stable/user_guide/indexing.html#returning-a-view-versus-a-copy\n",
      "  \"\"\"Entry point for launching an IPython kernel.\n"
     ]
    }
   ],
   "source": [
    "nnpd.sort_values(by=['filepath'], axis=0, inplace=True)\n"
   ]
  },
  {
   "cell_type": "code",
   "execution_count": 14,
   "id": "progressive-lincoln",
   "metadata": {},
   "outputs": [
    {
     "name": "stdout",
     "output_type": "stream",
     "text": [
      "                     filepath  groups\n",
      "17528  000001_female_Asian_45       0\n",
      "16450  000002_female_Asian_52       1\n",
      "3430     000004_male_Asian_54       3\n",
      "11788  000005_female_Asian_58       3\n",
      "11669  000006_female_Asian_59       0\n",
      "...                       ...     ...\n",
      "3759     006954_male_Asian_19       3\n",
      "15659    006955_male_Asian_19       3\n",
      "4865     006956_male_Asian_19       3\n",
      "17822    006957_male_Asian_20       4\n",
      "14273    006959_male_Asian_19       1\n",
      "\n",
      "[2700 rows x 2 columns]\n"
     ]
    }
   ],
   "source": [
    "print(nnpd)"
   ]
  },
  {
   "cell_type": "code",
   "execution_count": 17,
   "id": "insured-vulnerability",
   "metadata": {},
   "outputs": [],
   "source": [
    "# nnpd.to_csv()\n",
    "\n",
    "nnpd.to_csv('./unique_group.csv',\n",
    "         sep=',',\n",
    "         na_rep='NaN', \n",
    "         columns = ['filepath', 'groups'], # columns to write\n",
    "         index = False) # do not write index\n"
   ]
  },
  {
   "cell_type": "code",
   "execution_count": 35,
   "id": "retired-clothing",
   "metadata": {},
   "outputs": [
    {
     "name": "stdout",
     "output_type": "stream",
     "text": [
      "                    filepath  groups\n",
      "0     000001_female_Asian_45       0\n",
      "4     000006_female_Asian_59       0\n",
      "5     000007_female_Asian_58       0\n",
      "10    000014_female_Asian_58       0\n",
      "11      000015_male_Asian_55       0\n",
      "...                      ...     ...\n",
      "2676  006900_female_Asian_19       0\n",
      "2677    006905_male_Asian_19       0\n",
      "2679    006924_male_Asian_19       0\n",
      "2681    006927_male_Asian_19       0\n",
      "2683    006934_male_Asian_19       0\n",
      "\n",
      "[542 rows x 2 columns]\n",
      "print ==============================================================\n",
      "Int64Index([   0,    4,    5,   10,   11,   14,   24,   25,   29,   30,\n",
      "            ...\n",
      "            2640, 2655, 2657, 2658, 2667, 2676, 2677, 2679, 2681, 2683],\n",
      "           dtype='int64', length=542)\n",
      "print ==============================================================\n",
      "000001_female_Asian_45\n"
     ]
    }
   ],
   "source": [
    "unq_csv ='./unique_group.csv'\n",
    "\n",
    "unq_pd =  pd.read_csv(unq_csv)\n",
    "\n",
    "unq_0pd = unq_pd.loc[unq_pd['groups'] == 0]\n",
    "print(unq_0pd)\n",
    "\n",
    "print(\"print ==============================================================\")\n",
    "unq_1pd = unq_pd.index[unq_pd['groups'] == 0]\n",
    "print(unq_1pd)\n",
    "\n",
    "print(\"print ==============================================================\")\n",
    "print(unq_0pd.iloc[0].loc['filepath']) # 000001_female_Asian_45\n",
    "\n",
    "# for i in list_filepath:\n",
    "#     npd.loc[(npd.filepath == i), 'filepath'] = i.split('/')[7]\n",
    "# # for i in npd['filepath']:\n",
    "    \n",
    "\n",
    "# print(npd)"
   ]
  },
  {
   "cell_type": "code",
   "execution_count": null,
   "id": "gross-wrestling",
   "metadata": {},
   "outputs": [],
   "source": []
  }
 ],
 "metadata": {
  "kernelspec": {
   "display_name": "Python 3",
   "language": "python",
   "name": "python3"
  },
  "language_info": {
   "codemirror_mode": {
    "name": "ipython",
    "version": 3
   },
   "file_extension": ".py",
   "mimetype": "text/x-python",
   "name": "python",
   "nbconvert_exporter": "python",
   "pygments_lexer": "ipython3",
   "version": "3.7.7"
  }
 },
 "nbformat": 4,
 "nbformat_minor": 5
}
