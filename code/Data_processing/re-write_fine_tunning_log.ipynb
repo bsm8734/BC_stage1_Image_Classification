{
 "cells": [
  {
   "cell_type": "code",
   "execution_count": 2,
   "id": "harmful-beads",
   "metadata": {},
   "outputs": [
    {
     "name": "stdout",
     "output_type": "stream",
     "text": [
      "['0', '2.8198', '0.0312', '2.7098', '0.1291']\n",
      "['0', '0.0540', '1.0000', '1.8012', '0.5148']\n"
     ]
    }
   ],
   "source": [
    "import csv\n",
    "\n",
    "path = '/opt/ml/input/log/resnet_fine_tuned_train_log.csv'\n",
    "cnt = -450\n",
    "\n",
    "f = open(path, 'r', encoding='utf-8')\n",
    "fd = csv.reader(f)\n",
    "\n",
    "path2 = '/opt/ml/input/log/resnet_result.csv'\n",
    "f2 = open(path2, 'w', encoding='utf-8')\n",
    "fd2 = csv.writer(f2)\n",
    "\n",
    "i = 0\n",
    "for line in fd:\n",
    "    if i % 23 == 0:\n",
    "        print(line)\n",
    "        cnt += 450\n",
    "    fd2.writerow([str(cnt + int(line[0]))] + line[1:])\n",
    "    i+=1"
   ]
  },
  {
   "cell_type": "code",
   "execution_count": null,
   "id": "banner-relevance",
   "metadata": {},
   "outputs": [],
   "source": []
  }
 ],
 "metadata": {
  "kernelspec": {
   "display_name": "Python 3",
   "language": "python",
   "name": "python3"
  },
  "language_info": {
   "codemirror_mode": {
    "name": "ipython",
    "version": 3
   },
   "file_extension": ".py",
   "mimetype": "text/x-python",
   "name": "python",
   "nbconvert_exporter": "python",
   "pygments_lexer": "ipython3",
   "version": "3.7.7"
  }
 },
 "nbformat": 4,
 "nbformat_minor": 5
}
