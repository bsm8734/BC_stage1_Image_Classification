{
 "cells": [
  {
   "cell_type": "markdown",
   "id": "later-azerbaijan",
   "metadata": {},
   "source": [
    "# Classification"
   ]
  },
  {
   "cell_type": "markdown",
   "id": "every-academy",
   "metadata": {},
   "source": [
    "## 라이브러리 불러오기 및 경로설정"
   ]
  },
  {
   "cell_type": "code",
   "execution_count": 2,
   "id": "foster-hungarian",
   "metadata": {},
   "outputs": [],
   "source": [
    "# Seed\n",
    "import torch\n",
    "import numpy as np\n",
    "import random\n",
    "\n",
    "torch.manual_seed(0)\n",
    "torch.cuda.manual_seed(0)\n",
    "np.random.seed(0)\n",
    "random.seed(0)\n",
    "\n",
    "# Ignore warnings\n",
    "import warnings\n",
    "warnings.filterwarnings('ignore')\n",
    "\n",
    "import torch.nn as nn\n",
    "from torchvision import transforms, datasets\n",
    "from torch.utils.data import Dataset, DataLoader\n",
    "from torchvision.transforms import Resize, ToTensor, Normalize\n",
    "\n",
    "from PIL import Image\n",
    "import PIL\n",
    "\n",
    "import os\n",
    "from glob import glob\n",
    "import cv2\n",
    "\n",
    "from torch.optim import Adam\n",
    "import pandas as pd\n",
    "import torch.nn.functional as F"
   ]
  },
  {
   "cell_type": "markdown",
   "id": "dimensional-charge",
   "metadata": {},
   "source": [
    "## Test Dataset 정의"
   ]
  },
  {
   "cell_type": "code",
   "execution_count": 3,
   "id": "aggressive-learning",
   "metadata": {},
   "outputs": [],
   "source": [
    "# 테스트 데이터셋 폴더 경로를 지정해주세요.\n",
    "test_dir = '/opt/ml/input/data/eval'"
   ]
  },
  {
   "cell_type": "code",
   "execution_count": 4,
   "id": "sticky-nomination",
   "metadata": {},
   "outputs": [],
   "source": [
    "class TestDataset(Dataset):\n",
    "    def __init__(self, img_paths, transform):\n",
    "        self.img_paths = img_paths\n",
    "        self.transform = transform\n",
    "\n",
    "    def __getitem__(self, index):\n",
    "        image = Image.open(self.img_paths[index])\n",
    "\n",
    "        if self.transform:\n",
    "            image = self.transform(image)\n",
    "        return image\n",
    "\n",
    "    def __len__(self):\n",
    "        return len(self.img_paths)"
   ]
  },
  {
   "cell_type": "markdown",
   "id": "physical-structure",
   "metadata": {},
   "source": [
    "## Model 정의"
   ]
  },
  {
   "cell_type": "code",
   "execution_count": 5,
   "id": "sufficient-champagne",
   "metadata": {},
   "outputs": [],
   "source": [
    "class VGG11(nn.Module):\n",
    "  def __init__(self, num_classes=1000):\n",
    "    super(VGG11, self).__init__()\n",
    "\n",
    "    self.relu = nn.ReLU(inplace=True)\n",
    "    \n",
    "    # Convolution Feature Extraction Part\n",
    "    self.conv1 = nn.Conv2d(3, 64, kernel_size=3, padding=1)\n",
    "    self.bn1   = nn.BatchNorm2d(64)\n",
    "    self.pool1 = nn.MaxPool2d(kernel_size=2, stride=2)\n",
    "\n",
    "    self.conv2 = nn.Conv2d(64, 128, kernel_size=3, padding=1)\n",
    "    self.bn2   = nn.BatchNorm2d(128)\n",
    "    self.pool2 = nn.MaxPool2d(kernel_size=2, stride=2)\n",
    "\n",
    "    self.conv3_1 = nn.Conv2d(128, 256, kernel_size=3, padding=1)\n",
    "    self.bn3_1   = nn.BatchNorm2d(256)\n",
    "    self.conv3_2 = nn.Conv2d(256, 256, kernel_size=3, padding=1)\n",
    "    self.bn3_2   = nn.BatchNorm2d(256)\n",
    "    self.pool3   = nn.MaxPool2d(kernel_size=2, stride=2)\n",
    "\n",
    "    self.conv4_1 = nn.Conv2d(256, 512, kernel_size=3, padding=1)\n",
    "    self.bn4_1   = nn.BatchNorm2d(512)\n",
    "    self.conv4_2 = nn.Conv2d(512, 512, kernel_size=3, padding=1)\n",
    "    self.bn4_2   = nn.BatchNorm2d(512)\n",
    "    self.pool4   = nn.MaxPool2d(kernel_size=2, stride=2)\n",
    "\n",
    "    self.conv5_1 = nn.Conv2d(512, 512, kernel_size=3, padding=1)\n",
    "    self.bn5_1   = nn.BatchNorm2d(512)\n",
    "    self.conv5_2 = nn.Conv2d(512, 512, kernel_size=3, padding=1)\n",
    "    self.bn5_2   = nn.BatchNorm2d(512)\n",
    "    self.pool5   = nn.MaxPool2d(kernel_size=2, stride=2)\n",
    "    \n",
    "    # Fully Connected Classifier Part\n",
    "    self.fc1      = nn.Linear(512 * 7 * 7, 4096)\n",
    "    self.dropout1 = nn.Dropout()\n",
    "    \n",
    "    self.fc2      = nn.Linear(4096, 4096)\n",
    "    self.dropout2 = nn.Dropout()\n",
    "    \n",
    "    self.fc3      = nn.Linear(4096, num_classes)\n",
    "    \n",
    "\n",
    "  def forward(self, x):\n",
    "    # Convolution Feature Extraction Part\n",
    "    x = self.conv1(x)\n",
    "    x = self.bn1(x)\n",
    "    x = self.relu(x)\n",
    "    x = self.pool1(x)\n",
    "\n",
    "    x = self.conv2(x)\n",
    "    x = self.bn2(x)\n",
    "    x = self.relu(x)\n",
    "    x = self.pool2(x)\n",
    "\n",
    "    x = self.conv3_1(x)\n",
    "    x = self.bn3_1(x)\n",
    "    x = self.relu(x)\n",
    "    x = self.conv3_2(x)\n",
    "    x = self.bn3_2(x)\n",
    "    x = self.relu(x)\n",
    "    x = self.pool3(x)\n",
    "\n",
    "    x = self.conv4_1(x)\n",
    "    x = self.bn4_1(x)\n",
    "    x = self.relu(x)\n",
    "    x = self.conv4_2(x)\n",
    "    x = self.bn4_2(x)\n",
    "    x = self.relu(x)\n",
    "    x = self.pool4(x)\n",
    "\n",
    "    x = self.conv5_1(x)\n",
    "    x = self.bn5_1(x)\n",
    "    x = self.relu(x)\n",
    "    x = self.conv5_2(x)\n",
    "    x = self.bn5_2(x)\n",
    "    x = self.relu(x)\n",
    "    x = self.pool5(x)\n",
    "\n",
    "    # Fully Connected Classifier Part\n",
    "    x = torch.flatten(x, 1)\n",
    "    x = self.fc1(x)\n",
    "    x = self.relu(x)\n",
    "    x = self.dropout1(x)\n",
    "    \n",
    "    x = self.fc2(x)\n",
    "    x = self.relu(x)\n",
    "    x = self.dropout2(x)\n",
    "    \n",
    "    x = self.fc3(x)\n",
    "    return x"
   ]
  },
  {
   "cell_type": "markdown",
   "id": "general-piece",
   "metadata": {},
   "source": [
    "## Hyper-parameters "
   ]
  },
  {
   "cell_type": "code",
   "execution_count": 6,
   "id": "purple-dream",
   "metadata": {},
   "outputs": [],
   "source": [
    "data_root = '/opt/ml/input/data/train/images'\n",
    "log_dir   = '/opt/ml/input/log'\n",
    "\n",
    "batch_size = 32 # 8\n",
    "lr = 1e-4\n",
    "input_size = 224"
   ]
  },
  {
   "cell_type": "markdown",
   "id": "amber-moment",
   "metadata": {},
   "source": [
    "## Dataset"
   ]
  },
  {
   "cell_type": "code",
   "execution_count": 7,
   "id": "balanced-valve",
   "metadata": {},
   "outputs": [],
   "source": [
    "class MaskDataset(Dataset):\n",
    "  def __init__(self, data_root, is_Train=True, input_size=224, transform=None):\n",
    "    super(MaskDataset, self).__init__()\n",
    "\n",
    "    self.img_list = self._load_img_list(data_root, is_Train)\n",
    "    self.len = len(self.img_list)\n",
    "    self.input_size = input_size\n",
    "    self.transform = transform\n",
    "\n",
    "  def __getitem__(self, index):\n",
    "    img_path = self.img_list[index]\n",
    "    \n",
    "    # Image Loading\n",
    "    img = PIL.Image.open(img_path)\n",
    "\n",
    "    if self.transform:\n",
    "      img = self.transform(img)\n",
    "\n",
    "    # Ground Truth\n",
    "    label = self._get_class_idx_from_img_name(img_path)\n",
    "\n",
    "    return img, label\n",
    "\n",
    "  def __len__(self):\n",
    "    return self.len\n",
    "\n",
    "  def _load_img_list(self, data_root, is_Train): # 여기\n",
    "    # Change the name of directory which has inconsistent naming rule.\n",
    "    full_img_list = glob(data_root + '/*')\n",
    "    for dir in full_img_list:\n",
    "      dirname = os.path.basename(dir)\n",
    "      if '-1' in dirname:\n",
    "        os.rename(dir, dir.replace(dirname, dirname.replace('-1', '1')))\n",
    "    \n",
    "    # ID < 1000 for Training (N=721)\n",
    "    # 1000 < ID < 1050 for Validation (N=63)  # 여기\n",
    "    img_list = []\n",
    "    for dir in glob(data_root + '/*'):\n",
    "      if is_Train and (self._load_img_ID(dir) <= 5100): \n",
    "        img_list.extend(glob(dir+'/*'))\n",
    "      elif not is_Train and (5100 < self._load_img_ID(dir) < 7960):\n",
    "        img_list.extend(glob(dir+'/*'))\n",
    "\n",
    "    return img_list\n",
    "\n",
    "  def _load_img_ID(self, img_path):\n",
    "    ret = os.path.basename(img_path).split('_')[0].split('-')[0]\n",
    "    return int(ret)\n",
    "\n",
    "  def _get_class_idx_from_img_name(self, img_path):\n",
    "    img_name = os.path.basename(img_path) \n",
    "    ret =int(img_name.split('_')[-1].split('.')[0])\n",
    "    return ret"
   ]
  },
  {
   "cell_type": "markdown",
   "id": "becoming-morning",
   "metadata": {},
   "source": [
    "## Dataset and Data Loader"
   ]
  },
  {
   "cell_type": "code",
   "execution_count": 8,
   "id": "sought-kinase",
   "metadata": {},
   "outputs": [],
   "source": [
    "transform = transforms.Compose(\n",
    "    [transforms.Resize((244, 244)),\n",
    "     transforms.CenterCrop(224),\n",
    "     transforms.RandomHorizontalFlip(),\n",
    "     transforms.ToTensor(),\n",
    "     transforms.Normalize([0.485, 0.456, 0.406],\n",
    "                          [0.229, 0.224, 0.225])])\n",
    "\n",
    "\n",
    "train_dataset = MaskDataset(data_root, is_Train=True, input_size=input_size, transform=transform)\n",
    "train_loader = DataLoader(train_dataset, batch_size=batch_size, pin_memory=True, shuffle=True)\n",
    "\n",
    "valid_dataset = MaskDataset(data_root, is_Train=False, input_size=input_size, transform=transform)\n",
    "valid_loader = DataLoader(valid_dataset, batch_size=batch_size, pin_memory=True, shuffle=False)"
   ]
  },
  {
   "cell_type": "code",
   "execution_count": 9,
   "id": "linear-royal",
   "metadata": {},
   "outputs": [],
   "source": [
    "# Misc\n",
    "\n",
    "class AverageMeter(object):\n",
    "  \"\"\"Computes and stores the average and current value\"\"\"\n",
    "  def __init__(self):\n",
    "      self.reset()\n",
    "\n",
    "  def reset(self):\n",
    "    self.val = 0\n",
    "    self.avg = 0\n",
    "    self.sum = 0\n",
    "    self.count = 0\n",
    "\n",
    "  def update(self, val, n=1):\n",
    "    self.val = val\n",
    "    self.sum += val * n\n",
    "    self.count += n\n",
    "    self.avg = self.sum / self.count"
   ]
  },
  {
   "cell_type": "markdown",
   "id": "designed-gazette",
   "metadata": {},
   "source": [
    "## fine tuning"
   ]
  },
  {
   "cell_type": "code",
   "execution_count": 10,
   "id": "sought-distinction",
   "metadata": {},
   "outputs": [],
   "source": [
    "from torchvision.models import vgg11\n",
    "\n",
    "pretrained = True # True of False\n",
    "\n",
    "model = vgg11(pretrained)\n",
    "model.classifier[6] = nn.Linear(in_features=4096, out_features=18, bias=True) # 여기\n",
    "model.cuda()\n",
    "\n",
    "# Freeze the feature extracting convolution layers\n",
    "for param in model.features.parameters():\n",
    "    param.requires_grad = False"
   ]
  },
  {
   "cell_type": "markdown",
   "id": "adverse-discharge",
   "metadata": {},
   "source": [
    "## Loss function and Optimizer"
   ]
  },
  {
   "cell_type": "code",
   "execution_count": 11,
   "id": "instructional-bristol",
   "metadata": {},
   "outputs": [],
   "source": [
    "criterion = nn.CrossEntropyLoss()\n",
    "optimizer = Adam(model.parameters(), lr=lr)"
   ]
  },
  {
   "cell_type": "markdown",
   "id": "dependent-button",
   "metadata": {},
   "source": [
    "## Main"
   ]
  },
  {
   "cell_type": "code",
   "execution_count": 13,
   "id": "faced-banner",
   "metadata": {},
   "outputs": [
    {
     "name": "stdout",
     "output_type": "stream",
     "text": [
      "Iter [  0/435] | Train Loss 2.8068 | Train Acc 0.1562 | Valid Loss 2.5915 | Valid Acc 0.2065\n",
      "Iter [ 20/435] | Train Loss 1.5887 | Train Acc 0.5000 | Valid Loss 1.8667 | Valid Acc 0.3493\n",
      "Iter [ 40/435] | Train Loss 1.6403 | Train Acc 0.5000 | Valid Loss 1.6364 | Valid Acc 0.4288\n",
      "Iter [ 60/435] | Train Loss 1.3099 | Train Acc 0.6250 | Valid Loss 1.4968 | Valid Acc 0.4899\n",
      "Iter [ 80/435] | Train Loss 0.9964 | Train Acc 0.5938 | Valid Loss 1.4497 | Valid Acc 0.5302\n",
      "Iter [100/435] | Train Loss 1.3688 | Train Acc 0.6250 | Valid Loss 1.3485 | Valid Acc 0.5344\n",
      "Iter [120/435] | Train Loss 0.6574 | Train Acc 0.7188 | Valid Loss 1.2779 | Valid Acc 0.5826\n",
      "Iter [140/435] | Train Loss 0.6156 | Train Acc 0.7500 | Valid Loss 1.1040 | Valid Acc 0.6361\n",
      "Iter [160/435] | Train Loss 0.6234 | Train Acc 0.7812 | Valid Loss 1.1799 | Valid Acc 0.6270\n",
      "Iter [180/435] | Train Loss 0.7002 | Train Acc 0.7500 | Valid Loss 1.2146 | Valid Acc 0.6046\n",
      "Iter [200/435] | Train Loss 0.4196 | Train Acc 0.8750 | Valid Loss 1.1471 | Valid Acc 0.6448\n",
      "Iter [220/435] | Train Loss 0.5987 | Train Acc 0.8438 | Valid Loss 1.1145 | Valid Acc 0.6549\n",
      "Iter [240/435] | Train Loss 0.4939 | Train Acc 0.8125 | Valid Loss 1.2151 | Valid Acc 0.6348\n",
      "Iter [260/435] | Train Loss 0.7544 | Train Acc 0.7188 | Valid Loss 1.4083 | Valid Acc 0.5727\n",
      "Iter [280/435] | Train Loss 0.5564 | Train Acc 0.7812 | Valid Loss 1.2141 | Valid Acc 0.6306\n",
      "Iter [300/435] | Train Loss 0.3947 | Train Acc 0.9062 | Valid Loss 1.0632 | Valid Acc 0.6767\n",
      "Iter [320/435] | Train Loss 0.3688 | Train Acc 0.8750 | Valid Loss 1.0219 | Valid Acc 0.6889\n",
      "Iter [340/435] | Train Loss 0.4217 | Train Acc 0.8438 | Valid Loss 0.8916 | Valid Acc 0.7316\n",
      "Iter [360/435] | Train Loss 0.3765 | Train Acc 0.9062 | Valid Loss 0.9797 | Valid Acc 0.7035\n",
      "Iter [380/435] | Train Loss 0.4313 | Train Acc 0.8125 | Valid Loss 1.0328 | Valid Acc 0.6891\n",
      "Iter [400/435] | Train Loss 0.4249 | Train Acc 0.8750 | Valid Loss 0.9333 | Valid Acc 0.7130\n",
      "Iter [420/435] | Train Loss 0.3387 | Train Acc 0.8438 | Valid Loss 1.0630 | Valid Acc 0.6689\n",
      "Iter [434/435] | Train Loss 0.2016 | Train Acc 0.9286 | Valid Loss 0.9781 | Valid Acc 0.7120\n"
     ]
    }
   ],
   "source": [
    "# Main\n",
    "os.makedirs(log_dir, exist_ok=True)\n",
    "PATH = '/opt/ml/model/vgg/vgg11_model.pth'\n",
    "\n",
    "with open(os.path.join(log_dir, 'fine_tuned_train_log.csv'), 'w') as log:\n",
    "  # Training\n",
    "  for iter, (img, label) in enumerate(train_loader):\n",
    "        \n",
    "    # optimizer에 저장된 미분값을 0으로 초기화\n",
    "    optimizer.zero_grad()\n",
    "\n",
    "    # GPU 연산을 위해 이미지와 정답 tensor를 GPU로 보내기 (필요한 경우, 변수의 type도 수정해주세요)\n",
    "    img, label = img.to(device='cuda').float(), label.to(device='cuda')\n",
    "\n",
    "    # 모델에 이미지 forward\n",
    "    pred_logit = model(img)\n",
    "\n",
    "    # loss 값 계산\n",
    "    loss = criterion(pred_logit, label)\n",
    "\n",
    "    # Backpropagation\n",
    "    loss.backward()\n",
    "    optimizer.step()\n",
    "\n",
    "    # Accuracy 계산\n",
    "    pred_label = pred_logit.argmax(1)\n",
    "    acc = torch.div((pred_label == label).sum(), float(label.shape[0]))\n",
    "\n",
    "    train_loss = loss.item()\n",
    "    train_acc = acc\n",
    "\n",
    "    # Validation for every 20 epoch\n",
    "    if (iter % 20 == 0) or (iter == len(train_loader)-1):\n",
    "      valid_loss, valid_acc = AverageMeter(), AverageMeter()\n",
    "\n",
    "      for img, label in valid_loader:\n",
    "        # GPU 연산을 위해 이미지와 정답 tensor를 GPU로 보내기 (필요한 경우, 변수의 type도 수정해주세요)\n",
    "        img, label = img.to(device='cuda').float(), label.to(device='cuda')\n",
    "\n",
    "        # 모델에 이미지 forward (gradient 계산 X)\n",
    "        with torch.no_grad():\n",
    "            pred_logit = model(img)\n",
    "\n",
    "        # loss 값 계산\n",
    "        loss = criterion(pred_logit, label)\n",
    "\n",
    "        # Accuracy 계산\n",
    "        pred_label = pred_logit.argmax(1)\n",
    "        acc = torch.div((pred_label == label).sum(), float(label.shape[0]))\n",
    "\n",
    "        valid_loss.update(loss.item(), len(img))\n",
    "        valid_acc.update(acc, len(img))\n",
    "\n",
    "      valid_loss = valid_loss.avg\n",
    "      valid_acc = valid_acc.avg\n",
    "\n",
    "      print(\"Iter [%3d/%3d] | Train Loss %.4f | Train Acc %.4f | Valid Loss %.4f | Valid Acc %.4f\" %\n",
    "            (iter, len(train_loader), train_loss, train_acc, valid_loss, valid_acc))\n",
    "      \n",
    "      torch.save(model.state_dict(), PATH)\n",
    "      # Train Log Writing\n",
    "      log.write('%d,%.4f,%.4f,%.4f,%.4f\\n'%(iter, train_loss, train_acc, valid_loss, valid_acc))"
   ]
  },
  {
   "cell_type": "markdown",
   "id": "changed-mercy",
   "metadata": {},
   "source": [
    "## Training Log Visualization"
   ]
  },
  {
   "cell_type": "code",
   "execution_count": 14,
   "id": "fresh-petite",
   "metadata": {},
   "outputs": [],
   "source": [
    "import numpy as np\n",
    "import pandas as pd\n",
    "import matplotlib.pyplot as plt"
   ]
  },
  {
   "cell_type": "code",
   "execution_count": 15,
   "id": "chief-waste",
   "metadata": {},
   "outputs": [],
   "source": [
    "# Load log file\n",
    "fine_tuned_train_log = pd.read_csv(os.path.join(log_dir, 'fine_tuned_train_log.csv'), index_col=0, header=None)"
   ]
  },
  {
   "cell_type": "code",
   "execution_count": 16,
   "id": "worst-webmaster",
   "metadata": {},
   "outputs": [
    {
     "data": {
      "image/png": "[encoded data removed]",
      "text/plain": [
       "<Figure size 1080x576 with 2 Axes>"
      ]
     },
     "metadata": {
      "needs_background": "light"
     },
     "output_type": "display_data"
    }
   ],
   "source": [
    "# Visualize training log\n",
    "fig, (ax1, ax2) = plt.subplots(1, 2, figsize=(15,8))\n",
    "\n",
    "# ax1.plot(scratch_train_log.iloc[:,0], label='Scratch Training')\n",
    "ax1.plot(fine_tuned_train_log.iloc[:,0], label='Fine Tuning')\n",
    "ax1.set_title('Training Loss Graph', fontsize=15)\n",
    "ax1.set_xlabel('Iteration', fontsize=15)\n",
    "ax1.set_ylabel('Loss', fontsize=15)\n",
    "\n",
    "fig.legend(fontsize=15)\n",
    "\n",
    "# ax2.plot(scratch_train_log.iloc[:,1], label='Scratch Training')\n",
    "ax2.plot(fine_tuned_train_log.iloc[:,1], label='Fine Tuning')\n",
    "ax2.set_title('Training Accuracy Graph', fontsize=15)\n",
    "ax2.set_xlabel('Iteration', fontsize=15)\n",
    "ax2.set_ylabel('Accuracy', fontsize=15)\n",
    "\n",
    "plt.show()"
   ]
  },
  {
   "cell_type": "markdown",
   "id": "acute-belly",
   "metadata": {},
   "source": [
    "## Inference"
   ]
  },
  {
   "cell_type": "code",
   "execution_count": 35,
   "id": "incoming-beach",
   "metadata": {},
   "outputs": [
    {
     "name": "stdout",
     "output_type": "stream",
     "text": [
      "test inference is done!\n"
     ]
    }
   ],
   "source": [
    "# meta 데이터와 이미지 경로를 불러옵니다.\n",
    "submission = pd.read_csv(os.path.join(test_dir, 'info.csv'))\n",
    "image_dir = os.path.join(test_dir, 'images')\n",
    "\n",
    "# Test Dataset 클래스 객체를 생성하고 DataLoader를 만듭니다.\n",
    "image_paths = [os.path.join(image_dir, img_id) for img_id in submission.ImageID]\n",
    "transform = transforms.Compose([\n",
    "    Resize((512, 384), Image.BILINEAR),\n",
    "    ToTensor(),\n",
    "    Normalize(mean=(0.5, 0.5, 0.5), std=(0.2, 0.2, 0.2)),\n",
    "])\n",
    "dataset = TestDataset(image_paths, transform)\n",
    "\n",
    "loader = DataLoader(\n",
    "    dataset,\n",
    "    shuffle=False\n",
    ")\n",
    "\n",
    "# 모델을 정의합니다. (학습한 모델이 있다면 torch.load로 모델을 불러주세요!)\n",
    "model_ = vgg11()\n",
    "model_.classifier[6] = nn.Linear(in_features=4096, out_features=18, bias=True) # 여기\n",
    "model_.cuda()\n",
    "model_.load_state_dict(torch.load(PATH))\n",
    "model_.eval()\n",
    "\n",
    "# 모델이 테스트 데이터셋을 예측하고 결과를 저장합니다.\n",
    "all_predictions = []\n",
    "for images in loader:\n",
    "    with torch.no_grad():\n",
    "        images = images.to(device)\n",
    "        pred = model_(images)\n",
    "        pred = pred.argmax(dim=-1)\n",
    "        all_predictions.extend(pred.cpu().numpy())\n",
    "submission['ans'] = all_predictions\n",
    "\n",
    "# 제출할 파일을 저장합니다.\n",
    "submission.to_csv(os.path.join(test_dir, 'submission.csv'), index=False)\n",
    "print('test inference is done!')"
   ]
  },
  {
   "cell_type": "code",
   "execution_count": null,
   "id": "minimal-happening",
   "metadata": {},
   "outputs": [],
   "source": []
  },
  {
   "cell_type": "code",
   "execution_count": null,
   "id": "dramatic-bicycle",
   "metadata": {},
   "outputs": [],
   "source": []
  }
 ],
 "metadata": {
  "kernelspec": {
   "display_name": "Python 3",
   "language": "python",
   "name": "python3"
  },
  "language_info": {
   "codemirror_mode": {
    "name": "ipython",
    "version": 3
   },
   "file_extension": ".py",
   "mimetype": "text/x-python",
   "name": "python",
   "nbconvert_exporter": "python",
   "pygments_lexer": "ipython3",
   "version": "3.7.7"
  }
 },
 "nbformat": 4,
 "nbformat_minor": 5
}
